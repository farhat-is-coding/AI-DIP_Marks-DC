{
 "cells": [
  {
   "cell_type": "code",
   "execution_count": 35,
   "id": "874b29a4",
   "metadata": {},
   "outputs": [],
   "source": [
    "import cv2\n",
    "import pytesseract\n",
    "import os\n",
    "import numpy as np"
   ]
  },
  {
   "cell_type": "code",
   "execution_count": 36,
   "id": "6eb37bb4",
   "metadata": {},
   "outputs": [
    {
     "name": "stdout",
     "output_type": "stream",
     "text": [
      "Requirement already satisfied: pytesseract in c:\\installedsoftwares\\anaconda\\lib\\site-packages (0.3.10)\n",
      "Requirement already satisfied: packaging>=21.3 in c:\\installedsoftwares\\anaconda\\lib\\site-packages (from pytesseract) (21.3)\n",
      "Requirement already satisfied: Pillow>=8.0.0 in c:\\installedsoftwares\\anaconda\\lib\\site-packages (from pytesseract) (9.2.0)\n",
      "Requirement already satisfied: pyparsing!=3.0.5,>=2.0.2 in c:\\installedsoftwares\\anaconda\\lib\\site-packages (from packaging>=21.3->pytesseract) (3.0.9)\n"
     ]
    },
    {
     "name": "stderr",
     "output_type": "stream",
     "text": [
      "WARNING: Ignoring invalid distribution -pencv-python-headless (c:\\installedsoftwares\\anaconda\\lib\\site-packages)\n",
      "WARNING: Ignoring invalid distribution -pencv-python-headless (c:\\installedsoftwares\\anaconda\\lib\\site-packages)\n",
      "WARNING: Ignoring invalid distribution -pencv-python-headless (c:\\installedsoftwares\\anaconda\\lib\\site-packages)\n",
      "WARNING: Ignoring invalid distribution -pencv-python-headless (c:\\installedsoftwares\\anaconda\\lib\\site-packages)\n",
      "WARNING: Ignoring invalid distribution -pencv-python-headless (c:\\installedsoftwares\\anaconda\\lib\\site-packages)\n",
      "WARNING: Ignoring invalid distribution -pencv-python-headless (c:\\installedsoftwares\\anaconda\\lib\\site-packages)\n"
     ]
    }
   ],
   "source": [
    "!pip install pytesseract"
   ]
  },
  {
   "cell_type": "code",
   "execution_count": 37,
   "id": "1c065e31",
   "metadata": {},
   "outputs": [],
   "source": [
    "# Set the path to the Tesseract executable file\n",
    "pytesseract.pytesseract.tesseract_cmd = r'C:\\Program Files\\Tesseract-OCR\\tesseract.exe' \n",
    "# ^for this to work, need to install tesseract on laptop at the above path"
   ]
  },
  {
   "cell_type": "code",
   "execution_count": 48,
   "id": "d679bdb6",
   "metadata": {},
   "outputs": [],
   "source": [
    "# Define a function to extract numbers from an image\n",
    "def extract_numbers(image_path):\n",
    "    # Load the image\n",
    "    image = cv2.imread(image_path)\n",
    "    \n",
    "#     cv2.imshow('hi', image)\n",
    "#     cv2.waitKey()\n",
    "#     cv2.destroyAllWindows()\n",
    "\n",
    "#     # Convert the image to grayscale\n",
    "#     gray = cv2.cvtColor(image, cv2.COLOR_BGR2GRAY)\n",
    "\n",
    "#     # Apply thresholding to the image\n",
    "#     _, thresh = cv2.threshold(gray, 0, 255, cv2.THRESH_BINARY_INV + cv2.THRESH_OTSU)\n",
    "\n",
    "#     # Apply some image processing to improve the OCR accuracy\n",
    "#     kernel = cv2.getStructuringElement(cv2.MORPH_RECT, (3, 3))\n",
    "#     thresh = cv2.morphologyEx(thresh, cv2.MORPH_CLOSE, kernel)\n",
    "#     thresh = cv2.medianBlur(thresh, 3)\n",
    "\n",
    "\n",
    "    # Apply OCR to the image\n",
    "    text = pytesseract.image_to_string(image, config='--psm 6 outputbase digits')\n",
    "    # print(text)\n",
    "    # Extract the numbers from the OCR output\n",
    "    numbers = [int(s) for s in text.split() if s.isdigit()]\n",
    "\n",
    "    return numbers"
   ]
  },
  {
   "cell_type": "code",
   "execution_count": 50,
   "id": "3df89028",
   "metadata": {},
   "outputs": [
    {
     "name": "stdout",
     "output_type": "stream",
     "text": [
      "30\n",
      "[6, 20, 16, 6]\n",
      "[6, 30, 16]\n",
      "total marks:  48\n",
      "obtained marks:  52\n"
     ]
    }
   ],
   "source": [
    "# so hear me out, we get 30 images after applying box detection stuff, we could skip 1st 10 rows, but this is basic code\n",
    "# where 11-20 are maximum marks row, 21-30 are obtained marks row\n",
    "\n",
    "# but we dont always get 30 images sooo\n",
    "# we're going to divide by 3\n",
    "# I HAVE A LOGIC\n",
    "# JUST TRUST ME ON THIS ONE\n",
    "# IT WORKS I PROMISE\n",
    "maximum_marks = []\n",
    "obtained_marks = []\n",
    "\n",
    "results_images_path = \"E:/University/Semester 6 - Spring 2023/Digital Image Processing/LabWork/dip_project/AI-DIP_Marks-DC/final/results\"\n",
    "file_list = os.listdir(results_images_path)\n",
    "num_files = len([f for f in file_list if os.path.isfile(os.path.join(results_images_path, f))])\n",
    "print(num_files)\n",
    "\n",
    "# 3x3 kernel for erosion (since it somehow works better???)\n",
    "kernel = cv2.getStructuringElement(cv2.MORPH_RECT, (2,2))\n",
    "\n",
    "\n",
    "# Loop over the images and extract the numbers from each image\n",
    "j = int(num_files/3)\n",
    "for i in range(1,j+1): # second third of files\n",
    "    # converting all images to binary first using thresholding for better recognition\n",
    "\n",
    "    # maybe apply dilation too?\n",
    "    image_path = f'{results_images_path}/result{i+j}.png'\n",
    "    img = cv2.imread(image_path, 0)\n",
    "    (thresh, img_bin) = cv2.threshold(img, 128, 255, cv2.THRESH_BINARY)\n",
    "    \n",
    "    # applying closing\n",
    "    img_bin = cv2.morphologyEx(\n",
    "        img_bin, cv2.MORPH_ERODE, kernel, iterations=1)\n",
    "        # saving the binary image\n",
    "    image_bin = f'{results_images_path}/result{i+j}.png'\n",
    "    cv2.imwrite(image_bin, img_bin)\n",
    "#     print(image_path)\n",
    "    image_numbers = extract_numbers(image_bin)\n",
    "#     print(image_numbers)\n",
    "    maximum_marks.extend(image_numbers)\n",
    "\n",
    "# loop to get obtained marks from each question\n",
    "for i in range(1,j+1):\n",
    "    image_path = f'{results_images_path}/result{i+(2*j)}.png'\n",
    "    img = cv2.imread(image_path, 0)\n",
    "    (thresh, img_bin) = cv2.threshold(img, 128, 255, cv2.THRESH_BINARY)\n",
    "    # applying closing\n",
    "    img_bin = cv2.morphologyEx(\n",
    "        img_bin, cv2.MORPH_ERODE, kernel, iterations=1)\n",
    "    # saving the binary image\n",
    "    image_bin = f'{results_images_path}/result{i+(2*j)}.png'\n",
    "    cv2.imwrite(image_bin, img_bin)\n",
    "    # image_path = f'result{i+21}.png'\n",
    "    image_numbers = extract_numbers(image_bin)\n",
    "    obtained_marks.extend(image_numbers)\n",
    "    \n",
    "# Print the list of numbers\n",
    "print(maximum_marks)\n",
    "print(obtained_marks)\n",
    "\n",
    "print(\"total marks: \", sum(maximum_marks))\n",
    "print(\"obtained marks: \", sum(obtained_marks))"
   ]
  }
 ],
 "metadata": {
  "kernelspec": {
   "display_name": "Python 3 (ipykernel)",
   "language": "python",
   "name": "python3"
  },
  "language_info": {
   "codemirror_mode": {
    "name": "ipython",
    "version": 3
   },
   "file_extension": ".py",
   "mimetype": "text/x-python",
   "name": "python",
   "nbconvert_exporter": "python",
   "pygments_lexer": "ipython3",
   "version": "3.9.13"
  }
 },
 "nbformat": 4,
 "nbformat_minor": 5
}
