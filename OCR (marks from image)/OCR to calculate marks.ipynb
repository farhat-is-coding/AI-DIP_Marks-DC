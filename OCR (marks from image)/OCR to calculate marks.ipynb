{
 "cells": [
  {
   "cell_type": "code",
   "execution_count": 3,
   "id": "874b29a4",
   "metadata": {},
   "outputs": [],
   "source": [
    "import cv2\n",
    "import pytesseract"
   ]
  },
  {
   "cell_type": "code",
   "execution_count": 2,
   "id": "6eb37bb4",
   "metadata": {},
   "outputs": [
    {
     "name": "stdout",
     "output_type": "stream",
     "text": [
      "Collecting pytesseract\n",
      "  Downloading pytesseract-0.3.10-py3-none-any.whl (14 kB)\n",
      "Requirement already satisfied: Pillow>=8.0.0 in c:\\users\\farhat abbas\\anaconda3\\lib\\site-packages (from pytesseract) (9.2.0)\n",
      "Requirement already satisfied: packaging>=21.3 in c:\\users\\farhat abbas\\anaconda3\\lib\\site-packages (from pytesseract) (21.3)\n",
      "Requirement already satisfied: pyparsing!=3.0.5,>=2.0.2 in c:\\users\\farhat abbas\\anaconda3\\lib\\site-packages (from packaging>=21.3->pytesseract) (3.0.9)\n",
      "Installing collected packages: pytesseract\n",
      "Successfully installed pytesseract-0.3.10\n"
     ]
    }
   ],
   "source": [
    "!pip install pytesseract"
   ]
  },
  {
   "cell_type": "code",
   "execution_count": 7,
   "id": "1c065e31",
   "metadata": {},
   "outputs": [],
   "source": [
    "# Set the path to the Tesseract executable file\n",
    "pytesseract.pytesseract.tesseract_cmd = r'C:\\Program Files\\Tesseract-OCR\\tesseract.exe' \n",
    "# ^for this to work, need to install tesseract on laptop"
   ]
  },
  {
   "cell_type": "code",
   "execution_count": 38,
   "id": "d679bdb6",
   "metadata": {},
   "outputs": [],
   "source": [
    "# Define a function to extract numbers from an image\n",
    "def extract_numbers(image_path):\n",
    "    # Load the image\n",
    "    image = cv2.imread(image_path)\n",
    "    \n",
    "#     cv2.imshow('hi', image)\n",
    "#     cv2.waitKey()\n",
    "#     cv2.destroyAllWindows()\n",
    "\n",
    "#     # Convert the image to grayscale\n",
    "#     gray = cv2.cvtColor(image, cv2.COLOR_BGR2GRAY)\n",
    "\n",
    "#     # Apply thresholding to the image\n",
    "#     _, thresh = cv2.threshold(gray, 0, 255, cv2.THRESH_BINARY_INV + cv2.THRESH_OTSU)\n",
    "\n",
    "#     # Apply some image processing to improve the OCR accuracy\n",
    "#     kernel = cv2.getStructuringElement(cv2.MORPH_RECT, (3, 3))\n",
    "#     thresh = cv2.morphologyEx(thresh, cv2.MORPH_CLOSE, kernel)\n",
    "#     thresh = cv2.medianBlur(thresh, 3)\n",
    "\n",
    "\n",
    "    # Apply OCR to the image\n",
    "    text = pytesseract.image_to_string(image, config='--psm 6 outputbase digits')\n",
    "    # print(text)\n",
    "    # Extract the numbers from the OCR output\n",
    "    numbers = [int(s) for s in text.split() if s.isdigit()]\n",
    "\n",
    "    return numbers"
   ]
  },
  {
   "cell_type": "code",
   "execution_count": 39,
   "id": "3df89028",
   "metadata": {},
   "outputs": [
    {
     "name": "stdout",
     "output_type": "stream",
     "text": [
      "[20, 60, 10, 10]\n",
      "[18, 50, 5, 5]\n",
      "total marks:  100\n",
      "obtained marks:  78\n"
     ]
    }
   ],
   "source": [
    "# so hear me out, we get 30 images after applying box detection stuff, we could skip 1st 10 rows, but this is basic code\n",
    "# where 11-20 are maximum marks row, 21-30 are obtained marks row\n",
    "maximum_marks = []\n",
    "obtained_marks = []\n",
    "\n",
    "# Loop over the images and extract the numbers from each image\n",
    "for i in range(10): \n",
    "    image_path = f'result{i+11}.png'\n",
    "#     print(image_path)\n",
    "    image_numbers = extract_numbers(image_path)\n",
    "#     print(image_numbers)\n",
    "    maximum_marks.extend(image_numbers)\n",
    "\n",
    "for i in range(10):\n",
    "    image_path = f'result{i+21}.png'\n",
    "    image_numbers = extract_numbers(image_path)\n",
    "    obtained_marks.extend(image_numbers)\n",
    "    \n",
    "# Print the list of numbers\n",
    "print(maximum_marks)\n",
    "print(obtained_marks)\n",
    "\n",
    "print(\"total marks: \", sum(maximum_marks))\n",
    "print(\"obtained marks: \", sum(obtained_marks))"
   ]
  },
  {
   "cell_type": "code",
   "execution_count": null,
   "id": "f949d4da",
   "metadata": {},
   "outputs": [],
   "source": []
  }
 ],
 "metadata": {
  "kernelspec": {
   "display_name": "Python 3 (ipykernel)",
   "language": "python",
   "name": "python3"
  },
  "language_info": {
   "codemirror_mode": {
    "name": "ipython",
    "version": 3
   },
   "file_extension": ".py",
   "mimetype": "text/x-python",
   "name": "python",
   "nbconvert_exporter": "python",
   "pygments_lexer": "ipython3",
   "version": "3.9.13"
  }
 },
 "nbformat": 4,
 "nbformat_minor": 5
}
